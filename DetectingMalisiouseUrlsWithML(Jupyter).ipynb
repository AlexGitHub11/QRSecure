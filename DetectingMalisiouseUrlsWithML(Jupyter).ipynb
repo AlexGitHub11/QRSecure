{
 "cells": [
  {
   "cell_type": "code",
   "execution_count": 34,
   "id": "60ff2d8b",
   "metadata": {},
   "outputs": [],
   "source": [
    "# Imports\n",
    "import pandas as pd\n",
    "from sklearn.feature_extraction.text import TfidfVectorizer\n",
    "from sklearn.model_selection import train_test_split\n",
    "from sklearn.metrics import accuracy_score\n",
    "from sklearn.metrics import classification_report\n",
    "import pandas as pd\n",
    "# Visulization\n",
    "import seaborn as sns\n",
    "from sklearn import metrics\n",
    "import matplotlib.pyplot as plt\n",
    "import numpy as np"
   ]
  },
  {
   "cell_type": "code",
   "execution_count": 11,
   "id": "d5d1efb5",
   "metadata": {},
   "outputs": [],
   "source": [
    "# Algorithms\n",
    "from sklearn.linear_model import LogisticRegression # LR\n",
    "from sklearn.tree import DecisionTreeClassifier # DT\n",
    "from sklearn.naive_bayes import BernoulliNB # NB\n",
    "from sklearn import svm # SVM\n",
    "from sklearn.svm import SVC\n",
    "from sklearn.ensemble import RandomForestClassifier # RF"
   ]
  },
  {
   "cell_type": "code",
   "execution_count": 4,
   "id": "d1e6d35b",
   "metadata": {},
   "outputs": [],
   "source": [
    "dataset = pd.read_csv(\"urldata.csv\") # accessing dataset"
   ]
  },
  {
   "cell_type": "code",
   "execution_count": 35,
   "id": "8c831e85",
   "metadata": {},
   "outputs": [
    {
     "data": {
      "text/html": [
       "<div>\n",
       "<style scoped>\n",
       "    .dataframe tbody tr th:only-of-type {\n",
       "        vertical-align: middle;\n",
       "    }\n",
       "\n",
       "    .dataframe tbody tr th {\n",
       "        vertical-align: top;\n",
       "    }\n",
       "\n",
       "    .dataframe thead th {\n",
       "        text-align: right;\n",
       "    }\n",
       "</style>\n",
       "<table border=\"1\" class=\"dataframe\">\n",
       "  <thead>\n",
       "    <tr style=\"text-align: right;\">\n",
       "      <th></th>\n",
       "      <th>url</th>\n",
       "      <th>label</th>\n",
       "    </tr>\n",
       "  </thead>\n",
       "  <tbody>\n",
       "    <tr>\n",
       "      <th>0</th>\n",
       "      <td>diaryofagameaddict.com</td>\n",
       "      <td>bad</td>\n",
       "    </tr>\n",
       "    <tr>\n",
       "      <th>1</th>\n",
       "      <td>espdesign.com.au</td>\n",
       "      <td>bad</td>\n",
       "    </tr>\n",
       "    <tr>\n",
       "      <th>2</th>\n",
       "      <td>iamagameaddict.com</td>\n",
       "      <td>bad</td>\n",
       "    </tr>\n",
       "    <tr>\n",
       "      <th>3</th>\n",
       "      <td>kalantzis.net</td>\n",
       "      <td>bad</td>\n",
       "    </tr>\n",
       "    <tr>\n",
       "      <th>4</th>\n",
       "      <td>slightlyoffcenter.net</td>\n",
       "      <td>bad</td>\n",
       "    </tr>\n",
       "    <tr>\n",
       "      <th>...</th>\n",
       "      <td>...</td>\n",
       "      <td>...</td>\n",
       "    </tr>\n",
       "    <tr>\n",
       "      <th>420459</th>\n",
       "      <td>23.227.196.215/</td>\n",
       "      <td>bad</td>\n",
       "    </tr>\n",
       "    <tr>\n",
       "      <th>420460</th>\n",
       "      <td>apple-checker.org/</td>\n",
       "      <td>bad</td>\n",
       "    </tr>\n",
       "    <tr>\n",
       "      <th>420461</th>\n",
       "      <td>apple-iclods.org/</td>\n",
       "      <td>bad</td>\n",
       "    </tr>\n",
       "    <tr>\n",
       "      <th>420462</th>\n",
       "      <td>apple-uptoday.org/</td>\n",
       "      <td>bad</td>\n",
       "    </tr>\n",
       "    <tr>\n",
       "      <th>420463</th>\n",
       "      <td>apple-search.info</td>\n",
       "      <td>bad</td>\n",
       "    </tr>\n",
       "  </tbody>\n",
       "</table>\n",
       "<p>420464 rows × 2 columns</p>\n",
       "</div>"
      ],
      "text/plain": [
       "                           url label\n",
       "0       diaryofagameaddict.com   bad\n",
       "1             espdesign.com.au   bad\n",
       "2           iamagameaddict.com   bad\n",
       "3                kalantzis.net   bad\n",
       "4        slightlyoffcenter.net   bad\n",
       "...                        ...   ...\n",
       "420459         23.227.196.215/   bad\n",
       "420460      apple-checker.org/   bad\n",
       "420461       apple-iclods.org/   bad\n",
       "420462      apple-uptoday.org/   bad\n",
       "420463       apple-search.info   bad\n",
       "\n",
       "[420464 rows x 2 columns]"
      ]
     },
     "execution_count": 35,
     "metadata": {},
     "output_type": "execute_result"
    }
   ],
   "source": [
    "dataset # view db"
   ]
  },
  {
   "cell_type": "code",
   "execution_count": 36,
   "id": "ea04c69a",
   "metadata": {},
   "outputs": [
    {
     "data": {
      "text/plain": [
       "(420464, 2)"
      ]
     },
     "execution_count": 36,
     "metadata": {},
     "output_type": "execute_result"
    }
   ],
   "source": [
    "dataset.shape # view count of db"
   ]
  },
  {
   "cell_type": "code",
   "execution_count": 38,
   "id": "bb6e3031",
   "metadata": {},
   "outputs": [
    {
     "data": {
      "text/plain": [
       "label\n",
       "good    344821\n",
       "bad      75643\n",
       "Name: count, dtype: int64"
      ]
     },
     "execution_count": 38,
     "metadata": {},
     "output_type": "execute_result"
    }
   ],
   "source": [
    "dataset[\"label\"].value_counts() # count good and bad labels"
   ]
  },
  {
   "cell_type": "code",
   "execution_count": 37,
   "id": "9cad35f6",
   "metadata": {},
   "outputs": [
    {
     "data": {
      "text/plain": [
       "<bound method NDFrame._add_numeric_operations.<locals>.sum of           url  label\n",
       "0       False  False\n",
       "1       False  False\n",
       "2       False  False\n",
       "3       False  False\n",
       "4       False  False\n",
       "...       ...    ...\n",
       "420459  False  False\n",
       "420460  False  False\n",
       "420461  False  False\n",
       "420462  False  False\n",
       "420463  False  False\n",
       "\n",
       "[420464 rows x 2 columns]>"
      ]
     },
     "execution_count": 37,
     "metadata": {},
     "output_type": "execute_result"
    }
   ],
   "source": [
    "dataset.isnull().sum # check for null values"
   ]
  },
  {
   "cell_type": "code",
   "execution_count": null,
   "id": "30483aa8",
   "metadata": {},
   "outputs": [],
   "source": [
    "y = dataset[\"label\"]  # Storing output set (good or bad values) in y by convention\n",
    "urls = dataset[\"url\"] # Storing input set (urls) in vairable for vectorization due to non numerical values.\n",
    "\n",
    "vectorizer = TfidfVectorizer() # Storing vectorizer function into variable \n",
    "X = vectorizer.fit_transform(urls) # Applying the vectorizer\n",
    "\n",
    "X_train, X_test, y_train, y_test = train_test_split(X, y, test_size=0.2, random_state=42) # Splitting dataset to test/train"
   ]
  },
  {
   "cell_type": "code",
   "execution_count": 6,
   "id": "a393fcf4",
   "metadata": {},
   "outputs": [
    {
     "name": "stdout",
     "output_type": "stream",
     "text": [
      "Logistic Regression: Accuracy\n",
      "              precision    recall  f1-score   support\n",
      "\n",
      "         bad       0.97      0.83      0.89     14964\n",
      "        good       0.96      0.99      0.98     69129\n",
      "\n",
      "    accuracy                           0.96     84093\n",
      "   macro avg       0.97      0.91      0.94     84093\n",
      "weighted avg       0.96      0.96      0.96     84093\n",
      "\n"
     ]
    }
   ],
   "source": [
    "lr_model = LogisticRegression(max_iter=1000)\t # Testing LR \n",
    "lr_model.fit(X_train, y_train) #  train model with input/output set\n",
    "y_pred = lr_model.predict(X_test) # predictions stored in y_pred by convention\n",
    "print(\"Logistic Regression: Accuracy\")\n",
    "print(classification_report(y_test, y_pred)) # show report of stats "
   ]
  },
  {
   "cell_type": "code",
   "execution_count": 40,
   "id": "3b005d7a",
   "metadata": {},
   "outputs": [
    {
     "name": "stdout",
     "output_type": "stream",
     "text": [
      "0.9646106096821376\n"
     ]
    }
   ],
   "source": [
    "print(lr_model.score(X_test, y_test)) # Print accuracy  "
   ]
  },
  {
   "cell_type": "code",
   "execution_count": 33,
   "id": "72bdfe7c",
   "metadata": {},
   "outputs": [
    {
     "data": {
      "image/png": "[encoded data removed]",
      "text/plain": [
       "<Figure size 640x480 with 2 Axes>"
      ]
     },
     "metadata": {},
     "output_type": "display_data"
    }
   ],
   "source": [
    "confusionMatrix = metrics.confusion_matrix(y_test, y_pred) # create cm\n",
    "sns.heatmap(confusionMatrix, cmap=\"Blues\", annot=True) # Display heatmap of cm\n",
    "plt.xticks(np.arange(2)+0.5, [\"Good\", \"Bad\"]) # label\n",
    "plt.yticks(np.arange(2)+0.5, [\"Good\", \"Bad\"])\n",
    "plt.xlabel(\"Predicted\") # label\n",
    "plt.ylabel(\"Actual\")\n",
    "plt.show() # remove text"
   ]
  },
  {
   "cell_type": "code",
   "execution_count": 5,
   "id": "4665a185",
   "metadata": {},
   "outputs": [
    {
     "name": "stdout",
     "output_type": "stream",
     "text": [
      "Support Vector Machine: Accuracy\n",
      "              precision    recall  f1-score   support\n",
      "\n",
      "         bad       0.98      0.89      0.94     14964\n",
      "        good       0.98      1.00      0.99     69129\n",
      "\n",
      "    accuracy                           0.98     84093\n",
      "   macro avg       0.98      0.95      0.96     84093\n",
      "weighted avg       0.98      0.98      0.98     84093\n",
      "\n"
     ]
    }
   ],
   "source": [
    "svm_model = SVC(kernel=\"linear\") # specify linear as kernel\n",
    "svm_model.fit(X_train, y_train)\n",
    "y_pred = svm_model.predict(X_test)\n",
    "print(\"Support Vector Machine: Accuracy\")\n",
    "print(classification_report(y_test, y_pred))"
   ]
  },
  {
   "cell_type": "code",
   "execution_count": 7,
   "id": "d133e0b1",
   "metadata": {},
   "outputs": [
    {
     "name": "stdout",
     "output_type": "stream",
     "text": [
      "Random Forest: Accuracy\n",
      "              precision    recall  f1-score   support\n",
      "\n",
      "         bad       1.00      0.00      0.00     14964\n",
      "        good       0.82      1.00      0.90     69129\n",
      "\n",
      "    accuracy                           0.82     84093\n",
      "   macro avg       0.91      0.50      0.45     84093\n",
      "weighted avg       0.85      0.82      0.74     84093\n",
      "\n"
     ]
    }
   ],
   "source": [
    "rf_model = RandomForestClassifier(n_estimators=20, max_depth=20, random_state=42)\t\n",
    "rf_model.fit(X_train, y_train) \n",
    "y_pred = rf_model.predict(X_test)\n",
    "print(\"Random Forest: Accuracy\")\n",
    "print(classification_report(y_test, y_pred))"
   ]
  },
  {
   "cell_type": "code",
   "execution_count": 6,
   "id": "e7b8013d",
   "metadata": {},
   "outputs": [
    {
     "name": "stdout",
     "output_type": "stream",
     "text": [
      "Decision Tree: Accuracy\n",
      "              precision    recall  f1-score   support\n",
      "\n",
      "         bad       0.94      0.89      0.91     14964\n",
      "        good       0.98      0.99      0.98     69129\n",
      "\n",
      "    accuracy                           0.97     84093\n",
      "   macro avg       0.96      0.94      0.95     84093\n",
      "weighted avg       0.97      0.97      0.97     84093\n",
      "\n"
     ]
    }
   ],
   "source": [
    "dt_model = DecisionTreeClassifier()\n",
    "dt_model.fit(X_train, y_train)\n",
    "y_pred = dt_model.predict(X_test)\n",
    "print(\"Decision Tree: Accuracy\")\n",
    "print(classification_report(y_test, y_pred))"
   ]
  },
  {
   "cell_type": "code",
   "execution_count": 12,
   "id": "02b3566e",
   "metadata": {},
   "outputs": [
    {
     "name": "stdout",
     "output_type": "stream",
     "text": [
      "Naive Bayes: Accuracy\n",
      "              precision    recall  f1-score   support\n",
      "\n",
      "         bad       0.98      0.76      0.85     14964\n",
      "        good       0.95      1.00      0.97     69129\n",
      "\n",
      "    accuracy                           0.95     84093\n",
      "   macro avg       0.96      0.88      0.91     84093\n",
      "weighted avg       0.95      0.95      0.95     84093\n",
      "\n"
     ]
    }
   ],
   "source": [
    "nb_model = BernoulliNB() # Nernoillin better for binary problems\n",
    "nb_model.fit(X_train, y_train)\n",
    "y_pred = nb_model.predict(X_test)\n",
    "print(\"Naive Bayes: Accuracy\")\n",
    "print(classification_report(y_test, y_pred))"
   ]
  },
  {
   "cell_type": "code",
   "execution_count": null,
   "id": "0a892ac5",
   "metadata": {},
   "outputs": [],
   "source": []
  }
 ],
 "metadata": {
  "kernelspec": {
   "display_name": "Python 3 (ipykernel)",
   "language": "python",
   "name": "python3"
  },
  "language_info": {
   "codemirror_mode": {
    "name": "ipython",
    "version": 3
   },
   "file_extension": ".py",
   "mimetype": "text/x-python",
   "name": "python",
   "nbconvert_exporter": "python",
   "pygments_lexer": "ipython3",
   "version": "3.11.5"
  }
 },
 "nbformat": 4,
 "nbformat_minor": 5
}
